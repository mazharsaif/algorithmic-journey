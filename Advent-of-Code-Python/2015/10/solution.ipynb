{
 "cells": [
  {
   "cell_type": "markdown",
   "metadata": {},
   "source": [
    "-----\n",
    "----\n",
    "### Reading and processing Input\""
   ]
  },
  {
   "cell_type": "code",
   "execution_count": 53,
   "metadata": {},
   "outputs": [],
   "source": [
    "input_string = \"1321131112\""
   ]
  },
  {
   "cell_type": "markdown",
   "metadata": {},
   "source": [
    "------\n",
    "---------\n",
    "## Part-1"
   ]
  },
  {
   "cell_type": "code",
   "execution_count": 54,
   "metadata": {},
   "outputs": [],
   "source": [
    "def look_and_say(string:str) -> str:\n",
    "    \n",
    "    seqs = [string[0]]\n",
    "\n",
    "\n",
    "    for i in range(1, len(string)):\n",
    "        if string[i] == seqs[-1][0]:\n",
    "            seqs[-1] = seqs[-1]+string[i]\n",
    "        else:\n",
    "            seqs.append(string[i])\n",
    "        \n",
    "\n",
    "    output = \"\".join([f\"{len(i)}{i[0]}\" for i in seqs])\n",
    "    return output"
   ]
  },
  {
   "cell_type": "code",
   "execution_count": 62,
   "metadata": {},
   "outputs": [
    {
     "name": "stdout",
     "output_type": "stream",
     "text": [
      "Answer for Part-1 = 492982\n"
     ]
    }
   ],
   "source": [
    "ANS1 = input_string\n",
    "for i in range(40):\n",
    "    ANS1 =  look_and_say(ANS1)\n",
    "\n",
    "ANS1 = len(ANS1)\n",
    "print(\"Answer for Part-1 =\", ANS1)"
   ]
  },
  {
   "cell_type": "markdown",
   "metadata": {},
   "source": [
    "------\n",
    "---------\n",
    "## Part-2"
   ]
  },
  {
   "cell_type": "code",
   "execution_count": 64,
   "metadata": {},
   "outputs": [
    {
     "name": "stdout",
     "output_type": "stream",
     "text": [
      "Answer for Part-2 = 6989950\n"
     ]
    }
   ],
   "source": [
    "ANS2 = input_string\n",
    "for i in range(50):\n",
    "    ANS2 =  look_and_say(ANS2)\n",
    "\n",
    "ANS2 = len(ANS2)\n",
    "print(\"Answer for Part-2 =\", ANS2) # Time To Calculate-Approx=10s"
   ]
  }
 ],
 "metadata": {
  "kernelspec": {
   "display_name": "Python 3.9.7 ('base')",
   "language": "python",
   "name": "python3"
  },
  "language_info": {
   "codemirror_mode": {
    "name": "ipython",
    "version": 3
   },
   "file_extension": ".py",
   "mimetype": "text/x-python",
   "name": "python",
   "nbconvert_exporter": "python",
   "pygments_lexer": "ipython3",
   "version": "3.9.7"
  },
  "orig_nbformat": 4,
  "vscode": {
   "interpreter": {
    "hash": "fcf5590ce2d789d46a180223f9dda6f8ae45e89a2999e90e1a0cea5d6d4587a5"
   }
  }
 },
 "nbformat": 4,
 "nbformat_minor": 2
}
