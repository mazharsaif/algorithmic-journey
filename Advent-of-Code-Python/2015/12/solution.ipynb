{
 "cells": [
  {
   "cell_type": "markdown",
   "metadata": {},
   "source": [
    "### Reading Input  \n",
    "-------\n",
    "----------"
   ]
  },
  {
   "cell_type": "code",
   "execution_count": 30,
   "metadata": {},
   "outputs": [],
   "source": [
    "import json\n",
    "with open(\"input.json\", \"r\") as f:\n",
    "    jstring = json.load(f)"
   ]
  },
  {
   "cell_type": "markdown",
   "metadata": {},
   "source": [
    "------\n",
    "---------\n",
    "### Part-1"
   ]
  },
  {
   "cell_type": "code",
   "execution_count": 31,
   "metadata": {},
   "outputs": [
    {
     "name": "stdout",
     "output_type": "stream",
     "text": [
      "Answer for Part-1 = 111754\n"
     ]
    }
   ],
   "source": [
    "def num_sum(node):\n",
    "    if isinstance(node, int):\n",
    "        return node\n",
    "\n",
    "    elif isinstance(node, str):\n",
    "        return 0\n",
    "\n",
    "    elif isinstance(node, list):\n",
    "        return sum([num_sum(n) for n in node])\n",
    "\n",
    "    elif isinstance(node, dict):\n",
    "        return sum([num_sum(n) for n in node.values()])\n",
    "\n",
    "    else:\n",
    "        raise ValueError()\n",
    "\n",
    "        \n",
    "ANS1 = num_sum(jstring)\n",
    "print(\"Answer for Part-1 =\", ANS1)\n"
   ]
  },
  {
   "cell_type": "markdown",
   "metadata": {},
   "source": [
    "----------\n",
    "-------\n",
    "### Part-2"
   ]
  },
  {
   "cell_type": "code",
   "execution_count": 66,
   "metadata": {},
   "outputs": [
    {
     "name": "stdout",
     "output_type": "stream",
     "text": [
      "Answer for Part-2 = 65402\n"
     ]
    }
   ],
   "source": [
    "def num_sum_skipred(node):\n",
    "    if isinstance(node, int):\n",
    "        return node\n",
    "\n",
    "    elif isinstance(node, str):\n",
    "        return 0\n",
    "\n",
    "    elif isinstance(node, list):\n",
    "        return sum([num_sum_skipred(n) for n in node])\n",
    "\n",
    "    elif isinstance(node, dict):\n",
    "        values = node.values()\n",
    "        if \"red\" in values:\n",
    "            return 0\n",
    "\n",
    "        \n",
    "        return sum([num_sum_skipred(n) for n in values])\n",
    "\n",
    "    else:\n",
    "        raise ValueError()\n",
    "\n",
    "        \n",
    "ANS2 = num_sum_skipred(jstring)\n",
    "print(\"Answer for Part-2 =\", ANS2)\n"
   ]
  }
 ],
 "metadata": {
  "kernelspec": {
   "display_name": "Python 3.9.7 ('base')",
   "language": "python",
   "name": "python3"
  },
  "language_info": {
   "codemirror_mode": {
    "name": "ipython",
    "version": 3
   },
   "file_extension": ".py",
   "mimetype": "text/x-python",
   "name": "python",
   "nbconvert_exporter": "python",
   "pygments_lexer": "ipython3",
   "version": "3.9.7"
  },
  "orig_nbformat": 4,
  "vscode": {
   "interpreter": {
    "hash": "fcf5590ce2d789d46a180223f9dda6f8ae45e89a2999e90e1a0cea5d6d4587a5"
   }
  }
 },
 "nbformat": 4,
 "nbformat_minor": 2
}
