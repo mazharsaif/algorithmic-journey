{
 "cells": [
  {
   "cell_type": "markdown",
   "metadata": {},
   "source": [
    "-------\n",
    "-----\n",
    "### Reading and Preprocessing Input"
   ]
  },
  {
   "cell_type": "code",
   "execution_count": 64,
   "metadata": {},
   "outputs": [],
   "source": [
    "import numpy as np\n",
    "from tqdm import tqdm"
   ]
  },
  {
   "cell_type": "code",
   "execution_count": 65,
   "metadata": {},
   "outputs": [],
   "source": [
    "with open(\"input.txt\", \"r\") as f:\n",
    "    initial_state = f.read()\n",
    "    initial_state = initial_state.replace(\"#\", \"1\").replace(\".\", \"0\").replace(\"\\n\", \"\")\n",
    "\n",
    "    initial_state = list(initial_state)\n",
    "    initial_state = np.array(initial_state).reshape((100,100)).astype(\"bool\")"
   ]
  },
  {
   "cell_type": "code",
   "execution_count": 66,
   "metadata": {},
   "outputs": [
    {
     "data": {
      "text/plain": [
       "array([[ True, False, False, ..., False, False, False],\n",
       "       [False,  True, False, ..., False,  True,  True],\n",
       "       [ True, False, False, ...,  True,  True,  True],\n",
       "       ...,\n",
       "       [False, False, False, ...,  True, False,  True],\n",
       "       [False, False,  True, ...,  True,  True, False],\n",
       "       [False, False, False, ..., False,  True,  True]])"
      ]
     },
     "execution_count": 66,
     "metadata": {},
     "output_type": "execute_result"
    }
   ],
   "source": [
    "initial_state  # Boolean Array Light On/Off"
   ]
  },
  {
   "cell_type": "code",
   "execution_count": 67,
   "metadata": {},
   "outputs": [],
   "source": [
    "initial_state_padded = np.zeros((102, 102), dtype=\"bool\")\n",
    "initial_state_padded[1:-1, 1:-1] = initial_state"
   ]
  },
  {
   "cell_type": "markdown",
   "metadata": {},
   "source": [
    "------\n",
    "------\n",
    "### Part-1"
   ]
  },
  {
   "cell_type": "code",
   "execution_count": 41,
   "metadata": {},
   "outputs": [
    {
     "name": "stderr",
     "output_type": "stream",
     "text": [
      "100%|██████████| 100/100 [00:05<00:00, 17.20it/s]"
     ]
    },
    {
     "name": "stdout",
     "output_type": "stream",
     "text": [
      "Answer for Part-1 = 807\n"
     ]
    },
    {
     "name": "stderr",
     "output_type": "stream",
     "text": [
      "\n"
     ]
    }
   ],
   "source": [
    "current_state = np.copy(initial_state_padded)\n",
    "new_state = np.copy(initial_state_padded)\n",
    "\n",
    "for i in tqdm(range(100)):\n",
    "    new_state = np.copy(current_state)\n",
    "    for r in range(1, 101):\n",
    "        for c in range(1, 101):\n",
    "            bulb_state = current_state[r, c]\n",
    "\n",
    "            TOP = current_state[r-1, c]\n",
    "            BOTTOM = current_state[r+1, c]\n",
    "            LEFT = current_state[r, c-1]\n",
    "            RIGHT = current_state[r, c+1]\n",
    "            TL = current_state[r-1, c-1]\n",
    "            TR = current_state[r-1, c+1]\n",
    "            BL = current_state[r+1, c-1]\n",
    "            BR = current_state[r+1, c+1]\n",
    "\n",
    "            adjacent_states = [TOP, BOTTOM, LEFT, RIGHT, TL, TR, BL, BR]\n",
    "            adjacent_states = [1 if i else 0 for i in adjacent_states]\n",
    "            num_adjacent_ons = sum(adjacent_states)\n",
    "            \n",
    "            if bulb_state == True:\n",
    "                if not ((num_adjacent_ons == 3) or (num_adjacent_ons == 2)):\n",
    "                    new_state[r, c] = False\n",
    "                \n",
    "            elif num_adjacent_ons == 3:\n",
    "                new_state[r, c] = True\n",
    "                \n",
    "    current_state = np.copy(new_state)\n",
    "\n",
    "\n",
    "ANS1 = np.sum(current_state)\n",
    "print(\"Answer for Part-1 =\", ANS1)"
   ]
  },
  {
   "cell_type": "markdown",
   "metadata": {},
   "source": [
    "------\n",
    "------\n",
    "### Part-2"
   ]
  },
  {
   "cell_type": "code",
   "execution_count": 68,
   "metadata": {},
   "outputs": [],
   "source": [
    "## Set Corner bulbs to True for Initial State\n",
    "corner_points = [(1, 1), (1, 100), (100, 1), (100, 100)]\n",
    "\n",
    "for (r,c) in corner_points:\n",
    "    initial_state_padded[r,c]=True"
   ]
  },
  {
   "cell_type": "code",
   "execution_count": 69,
   "metadata": {},
   "outputs": [
    {
     "name": "stderr",
     "output_type": "stream",
     "text": [
      "100%|██████████| 100/100 [00:05<00:00, 16.70it/s]"
     ]
    },
    {
     "name": "stdout",
     "output_type": "stream",
     "text": [
      "Answer for Part-2 = 1006\n"
     ]
    },
    {
     "name": "stderr",
     "output_type": "stream",
     "text": [
      "\n"
     ]
    }
   ],
   "source": [
    "current_state = np.copy(initial_state_padded)\n",
    "new_state = np.copy(initial_state_padded)\n",
    "\n",
    "for i in tqdm(range(100)):\n",
    "    new_state = np.copy(current_state)\n",
    "    for r in range(1, 101):\n",
    "        for c in range(1, 101):\n",
    "\n",
    "            if (r, c) in corner_points:\n",
    "                continue # Skip for corner bulbs\n",
    "            \n",
    "            bulb_state = current_state[r, c]\n",
    "\n",
    "            TOP = current_state[r-1, c]\n",
    "            BOTTOM = current_state[r+1, c]\n",
    "            LEFT = current_state[r, c-1]\n",
    "            RIGHT = current_state[r, c+1]\n",
    "            TL = current_state[r-1, c-1]\n",
    "            TR = current_state[r-1, c+1]\n",
    "            BL = current_state[r+1, c-1]\n",
    "            BR = current_state[r+1, c+1]\n",
    "\n",
    "            adjacent_states = [TOP, BOTTOM, LEFT, RIGHT, TL, TR, BL, BR]\n",
    "            adjacent_states = [1 if i else 0 for i in adjacent_states]\n",
    "            num_adjacent_ons = sum(adjacent_states)\n",
    "            \n",
    "            if bulb_state == True:\n",
    "                if not ((num_adjacent_ons == 3) or (num_adjacent_ons == 2)):\n",
    "                    new_state[r, c] = False\n",
    "                \n",
    "            elif num_adjacent_ons == 3:\n",
    "                new_state[r, c] = True\n",
    "                \n",
    "    current_state = np.copy(new_state)\n",
    "\n",
    "\n",
    "ANS2 = np.sum(current_state)\n",
    "print(\"Answer for Part-2 =\", ANS2)"
   ]
  },
  {
   "cell_type": "markdown",
   "metadata": {},
   "source": [
    "--------------\n",
    "-----------"
   ]
  },
  {
   "cell_type": "markdown",
   "metadata": {},
   "source": []
  }
 ],
 "metadata": {
  "kernelspec": {
   "display_name": "Python 3.9.7 ('base')",
   "language": "python",
   "name": "python3"
  },
  "language_info": {
   "codemirror_mode": {
    "name": "ipython",
    "version": 3
   },
   "file_extension": ".py",
   "mimetype": "text/x-python",
   "name": "python",
   "nbconvert_exporter": "python",
   "pygments_lexer": "ipython3",
   "version": "3.9.7"
  },
  "orig_nbformat": 4,
  "vscode": {
   "interpreter": {
    "hash": "fcf5590ce2d789d46a180223f9dda6f8ae45e89a2999e90e1a0cea5d6d4587a5"
   }
  }
 },
 "nbformat": 4,
 "nbformat_minor": 2
}
