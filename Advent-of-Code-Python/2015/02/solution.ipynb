{
 "cells": [
  {
   "cell_type": "markdown",
   "metadata": {},
   "source": [
    "-------\n",
    "-------\n",
    "### Reading and Preprocessing Input\""
   ]
  },
  {
   "cell_type": "code",
   "execution_count": 2,
   "metadata": {},
   "outputs": [
    {
     "data": {
      "text/plain": [
       "[[13, 26, 29],\n",
       " [11, 11, 14],\n",
       " [2, 5, 27],\n",
       " [6, 10, 13],\n",
       " [10, 15, 19],\n",
       " [15, 26, 29],\n",
       " [6, 8, 23],\n",
       " [8, 17, 26],\n",
       " [3, 20, 28],\n",
       " [12, 23, 24]]"
      ]
     },
     "execution_count": 2,
     "metadata": {},
     "output_type": "execute_result"
    }
   ],
   "source": [
    "with open(\"input.txt\", \"r\") as f:\n",
    "    raw_inputs = f.readlines()\n",
    "    raw_inputs = [i.strip() for i in raw_inputs]\n",
    "    raw_inputs = [i.split(\"x\") for i in raw_inputs]\n",
    "\n",
    "\n",
    "wrap_dimensions = []\n",
    "for raw_inp in raw_inputs:\n",
    "    processed_input = [int(i) for i in raw_inp]\n",
    "    wrap_dimensions.append(sorted(processed_input))\n",
    "wrap_dimensions[:10]"
   ]
  },
  {
   "cell_type": "markdown",
   "metadata": {},
   "source": [
    "------\n",
    "---------\n",
    "### Part-1"
   ]
  },
  {
   "cell_type": "code",
   "execution_count": 3,
   "metadata": {},
   "outputs": [
    {
     "name": "stdout",
     "output_type": "stream",
     "text": [
      "Answer to Part 1: 1586300\n"
     ]
    }
   ],
   "source": [
    "ANS1 = 0\n",
    "\n",
    "for dims in wrap_dimensions:\n",
    "    area = 2*dims[0]*dims[1] + 2*dims[1]*dims[2] + 2*dims[2]*dims[0] + dims[0]*dims[1]\n",
    "\n",
    "    ANS1 += area\n",
    "\n",
    "print(f\"Answer to Part 1: {ANS1}\")"
   ]
  },
  {
   "cell_type": "markdown",
   "metadata": {},
   "source": [
    "------\n",
    "---------\n",
    "### Part-2"
   ]
  },
  {
   "cell_type": "code",
   "execution_count": 4,
   "metadata": {},
   "outputs": [
    {
     "name": "stdout",
     "output_type": "stream",
     "text": [
      "Answer to Part 2: 3737498\n"
     ]
    }
   ],
   "source": [
    "ANS2 = 0\n",
    "\n",
    "for dims in wrap_dimensions:\n",
    "    ribbon_length = dims[0]*dims[1]*dims[2] + 2*(dims[0]+dims[1])\n",
    "\n",
    "    ANS2 += ribbon_length\n",
    "\n",
    "print(f\"Answer to Part 2: {ANS2}\")"
   ]
  },
  {
   "cell_type": "code",
   "execution_count": null,
   "metadata": {},
   "outputs": [],
   "source": []
  }
 ],
 "metadata": {
  "kernelspec": {
   "display_name": "Python 3.9.7 ('base')",
   "language": "python",
   "name": "python3"
  },
  "language_info": {
   "codemirror_mode": {
    "name": "ipython",
    "version": 3
   },
   "file_extension": ".py",
   "mimetype": "text/x-python",
   "name": "python",
   "nbconvert_exporter": "python",
   "pygments_lexer": "ipython3",
   "version": "3.10.12"
  },
  "orig_nbformat": 4,
  "vscode": {
   "interpreter": {
    "hash": "fcf5590ce2d789d46a180223f9dda6f8ae45e89a2999e90e1a0cea5d6d4587a5"
   }
  }
 },
 "nbformat": 4,
 "nbformat_minor": 2
}
