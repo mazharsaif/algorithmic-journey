{
 "cells": [
  {
   "cell_type": "markdown",
   "metadata": {},
   "source": [
    "-------\n",
    "-----\n",
    "### Reading and Preprocessing Input"
   ]
  },
  {
   "cell_type": "code",
   "execution_count": 2,
   "metadata": {},
   "outputs": [
    {
     "data": {
      "text/plain": [
       "'^><^>>>^<^v<v^^vv^><'"
      ]
     },
     "execution_count": 2,
     "metadata": {},
     "output_type": "execute_result"
    }
   ],
   "source": [
    "with open(\"input.txt\", \"r\") as f:\n",
    "    steps = f.read()\n",
    "\n",
    "steps[:20]"
   ]
  },
  {
   "cell_type": "markdown",
   "metadata": {},
   "source": [
    "------\n",
    "------\n",
    "### Part-1"
   ]
  },
  {
   "cell_type": "code",
   "execution_count": 6,
   "metadata": {},
   "outputs": [],
   "source": [
    "def get_new_loc(step, prev_location):\n",
    "    x, y = prev_location\n",
    "    if step == \"^\":\n",
    "        y += 1\n",
    "    elif step == \"v\":\n",
    "        y -= 1\n",
    "\n",
    "    elif step == \"<\":\n",
    "        x -= 1\n",
    "    \n",
    "    elif step == \">\":\n",
    "        x += 1\n",
    "\n",
    "    else:\n",
    "        raise ValueError(f\"Unsupported Step direction {step}\")\n",
    "\n",
    "\n",
    "    return (x, y)"
   ]
  },
  {
   "cell_type": "code",
   "execution_count": 7,
   "metadata": {},
   "outputs": [
    {
     "name": "stdout",
     "output_type": "stream",
     "text": [
      "Answer for Part-1 = 2081\n"
     ]
    }
   ],
   "source": [
    "from collections import defaultdict\n",
    "visited_hashmap = defaultdict(int)\n",
    "visited_hashmap[(0, 0)] = 1\n",
    "\n",
    "\n",
    "current_loc = (0, 0)\n",
    "\n",
    "for s in steps:\n",
    "    current_loc = get_new_loc(s, current_loc)\n",
    "    visited_hashmap[current_loc] += 1\n",
    "    \n",
    "\n",
    "ANS1 = len(visited_hashmap)\n",
    "print(\"Answer for Part-1 =\", ANS1)\n"
   ]
  },
  {
   "cell_type": "markdown",
   "metadata": {},
   "source": [
    "------\n",
    "------\n",
    "### Part-2"
   ]
  },
  {
   "cell_type": "code",
   "execution_count": 8,
   "metadata": {},
   "outputs": [
    {
     "name": "stdout",
     "output_type": "stream",
     "text": [
      "Answer for Part-2 = 2341\n"
     ]
    }
   ],
   "source": [
    "visited_hashmap = defaultdict(int)\n",
    "visited_hashmap[(0, 0)] = 1\n",
    "\n",
    "\n",
    "santa_loc = (0, 0)\n",
    "robo_loc = (0, 0)\n",
    "for i, s in enumerate(steps):\n",
    "    if i%2 != 0:\n",
    "        santa_loc = get_new_loc(s, santa_loc)\n",
    "        visited_hashmap[santa_loc] += 1\n",
    "    else:\n",
    "        robo_loc = get_new_loc(s, robo_loc)\n",
    "        visited_hashmap[robo_loc] += 1\n",
    "\n",
    "\n",
    "ANS2 = len(visited_hashmap)\n",
    "print(\"Answer for Part-2 =\", ANS2)\n",
    "        "
   ]
  }
 ],
 "metadata": {
  "kernelspec": {
   "display_name": "Python 3.9.7 ('base')",
   "language": "python",
   "name": "python3"
  },
  "language_info": {
   "codemirror_mode": {
    "name": "ipython",
    "version": 3
   },
   "file_extension": ".py",
   "mimetype": "text/x-python",
   "name": "python",
   "nbconvert_exporter": "python",
   "pygments_lexer": "ipython3",
   "version": "3.10.12"
  },
  "orig_nbformat": 4,
  "vscode": {
   "interpreter": {
    "hash": "fcf5590ce2d789d46a180223f9dda6f8ae45e89a2999e90e1a0cea5d6d4587a5"
   }
  }
 },
 "nbformat": 4,
 "nbformat_minor": 2
}
