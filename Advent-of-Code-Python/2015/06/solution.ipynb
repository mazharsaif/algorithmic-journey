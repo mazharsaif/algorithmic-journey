{
 "cells": [
  {
   "cell_type": "markdown",
   "metadata": {},
   "source": [
    "----\n",
    "---\n",
    "### Imports"
   ]
  },
  {
   "cell_type": "code",
   "execution_count": 2,
   "metadata": {},
   "outputs": [],
   "source": [
    "import numpy as np\n",
    "import sys"
   ]
  },
  {
   "cell_type": "markdown",
   "metadata": {},
   "source": [
    "\n",
    "----\n",
    "---\n",
    "### Utility Functions"
   ]
  },
  {
   "cell_type": "code",
   "execution_count": 3,
   "metadata": {},
   "outputs": [],
   "source": [
    "def process_instruction(raw_instruction:str) -> tuple[bool, int, int, int, int]:\n",
    "    \"\"\"returns (switch, x1, y1, x2, y2)\"\"\"\n",
    "\n",
    "    instruc = raw_instruction.split(\" \")\n",
    "    if len(instruc)==5:\n",
    "        switch = instruc[0] + \" \" + instruc[1]\n",
    "        x1, y1 = instruc[2].split(\",\")\n",
    "        x2, y2 = instruc[4].split(\",\")\n",
    "\n",
    "    elif len(instruc)==4:\n",
    "        switch = instruc[0]\n",
    "        x1, y1 = instruc[1].split(\",\")\n",
    "        x2, y2 = instruc[3].split(\",\")\n",
    "    return switch, int(x1), int(y1), int(x2), int(y2)\n",
    "    "
   ]
  },
  {
   "cell_type": "markdown",
   "metadata": {},
   "source": [
    "-------\n",
    "-----\n",
    "### Reading and Preprocessing Input"
   ]
  },
  {
   "cell_type": "code",
   "execution_count": 4,
   "metadata": {},
   "outputs": [
    {
     "name": "stdout",
     "output_type": "stream",
     "text": [
      "['turn on 489,959 through 759,964', 'turn off 820,516 through 871,914', 'turn off 427,423 through 929,502', 'turn on 774,14 through 977,877', 'turn on 410,146 through 864,337']\n",
      "[('turn on', 489, 959, 759, 964), ('turn off', 820, 516, 871, 914), ('turn off', 427, 423, 929, 502), ('turn on', 774, 14, 977, 877), ('turn on', 410, 146, 864, 337)]\n"
     ]
    }
   ],
   "source": [
    "with open(\"input.txt\", \"r\") as f:\n",
    "    raw_instructions = f.readlines()\n",
    "    raw_instructions = [i.rstrip() for i in raw_instructions]\n",
    "\n",
    "print(raw_instructions[:5])\n",
    "\n",
    "instructions = [process_instruction(i) for i in raw_instructions]\n",
    "\n",
    "print(instructions[:5])\n"
   ]
  },
  {
   "cell_type": "markdown",
   "metadata": {},
   "source": [
    "-------\n",
    "-----------\n",
    "### 01"
   ]
  },
  {
   "cell_type": "code",
   "execution_count": 5,
   "metadata": {},
   "outputs": [
    {
     "data": {
      "text/plain": [
       "569999"
      ]
     },
     "execution_count": 5,
     "metadata": {},
     "output_type": "execute_result"
    }
   ],
   "source": [
    "light_grid = np.zeros((1000,1000), dtype=\"bool\")\n",
    "for instruc in  instructions:\n",
    "    x1, y1, x2, y2 = instruc[1:]\n",
    "    x2 +=1\n",
    "    y2 +=1\n",
    "    x1, x2 = min(x1,x2), max(x1,x2)\n",
    "    y1, y2 = min(y1,y2), max(y1,y2)\n",
    "\n",
    "    if instruc[0] == \"turn off\":\n",
    "        light_grid[y1:y2, x1:x2] = False\n",
    "    elif instruc[0] == \"turn on\":\n",
    "        light_grid[y1:y2, x1:x2] = True\n",
    "\n",
    "    elif instruc[0] == \"toggle\":\n",
    "        light_grid[y1:y2, x1:x2] = ~light_grid[y1:y2, x1:x2]\n",
    "\n",
    "    else:\n",
    "        raise ValueError(f\"unsupported step {instruc[0]}\")\n",
    "\n",
    "ANS1 = np.sum(light_grid)\n",
    "print(\"Answer for Part-1 =\", ANS1)"
   ]
  },
  {
   "cell_type": "markdown",
   "metadata": {},
   "source": [
    "-------\n",
    "-----------\n",
    "### 02"
   ]
  },
  {
   "cell_type": "code",
   "execution_count": 7,
   "metadata": {},
   "outputs": [
    {
     "name": "stdout",
     "output_type": "stream",
     "text": [
      "Answer for Part-2 = 17836115\n"
     ]
    }
   ],
   "source": [
    "light_grid = np.zeros((1000,1000), dtype=\"int32\")\n",
    "for instruc in  instructions:\n",
    "    x1, y1, x2, y2 = instruc[1:]\n",
    "    x2 +=1\n",
    "    y2 +=1\n",
    "    x1, x2 = min(x1,x2), max(x1,x2)\n",
    "    y1, y2 = min(y1,y2), max(y1,y2)\n",
    "\n",
    "    if instruc[0] == \"turn off\":\n",
    "        light_grid[y1:y2, x1:x2] = np.clip(light_grid[y1:y2, x1:x2] -1, 0, sys.maxsize)\n",
    "    elif instruc[0] == \"turn on\":\n",
    "        light_grid[y1:y2, x1:x2] = light_grid[y1:y2, x1:x2] + 1\n",
    "\n",
    "    elif instruc[0] == \"toggle\":\n",
    "        light_grid[y1:y2, x1:x2] = light_grid[y1:y2, x1:x2] + 2\n",
    "\n",
    "    else:\n",
    "        raise ValueError(f\"unsupported step {instruc[0]}\")\n",
    "\n",
    "ANS2 = np.sum(light_grid)\n",
    "\n",
    "print(\"Answer for Part-2 =\", ANS2)"
   ]
  }
 ],
 "metadata": {
  "kernelspec": {
   "display_name": "Python 3.9.7 ('base')",
   "language": "python",
   "name": "python3"
  },
  "language_info": {
   "codemirror_mode": {
    "name": "ipython",
    "version": 3
   },
   "file_extension": ".py",
   "mimetype": "text/x-python",
   "name": "python",
   "nbconvert_exporter": "python",
   "pygments_lexer": "ipython3",
   "version": "3.10.12"
  },
  "orig_nbformat": 4,
  "vscode": {
   "interpreter": {
    "hash": "fcf5590ce2d789d46a180223f9dda6f8ae45e89a2999e90e1a0cea5d6d4587a5"
   }
  }
 },
 "nbformat": 4,
 "nbformat_minor": 2
}
