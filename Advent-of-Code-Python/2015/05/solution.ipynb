{
 "cells": [
  {
   "cell_type": "markdown",
   "metadata": {},
   "source": [
    "-------\n",
    "-----\n",
    "### Reading and Preprocessing Input"
   ]
  },
  {
   "cell_type": "code",
   "execution_count": 56,
   "metadata": {},
   "outputs": [],
   "source": [
    "with open(\"input.txt\", \"r\") as f:\n",
    "    raw_inputs = f.read()\n",
    "    strings = raw_inputs.split()"
   ]
  },
  {
   "cell_type": "code",
   "execution_count": 57,
   "metadata": {},
   "outputs": [
    {
     "data": {
      "text/plain": [
       "['uxcplgxnkwbdwhrp', 'suerykeptdsutidb', 'dmrtgdkaimrrwmej']"
      ]
     },
     "execution_count": 57,
     "metadata": {},
     "output_type": "execute_result"
    }
   ],
   "source": [
    "strings[:3]"
   ]
  },
  {
   "cell_type": "markdown",
   "metadata": {},
   "source": [
    "------\n",
    "------\n",
    "### Part-1"
   ]
  },
  {
   "cell_type": "code",
   "execution_count": 58,
   "metadata": {},
   "outputs": [
    {
     "data": {
      "text/plain": [
       "236"
      ]
     },
     "execution_count": 58,
     "metadata": {},
     "output_type": "execute_result"
    }
   ],
   "source": [
    "nice_str_indices = []\n",
    "\n",
    "for idx, s in enumerate(strings):\n",
    "    \n",
    "    num_vowels = 0\n",
    "    twice = False\n",
    "    flag = False\n",
    "    if s[0] in \"aeiou\":\n",
    "        num_vowels += 1\n",
    "    for i, char in enumerate(s[1:], start=1):\n",
    "        if char == s[i-1]:\n",
    "            twice = True\n",
    "\n",
    "        if char in \"aeiou\":\n",
    "            num_vowels +=1\n",
    "        \n",
    "\n",
    "        if char in \"bdqy\":\n",
    "            if s[i-1] == \"acpx\"[\"bdqy\".index(char)]:\n",
    "                flag = True\n",
    "                break\n",
    "\n",
    "    if not flag:\n",
    "        if twice and num_vowels>=3:\n",
    "            nice_str_indices.append(idx)\n",
    "\n",
    "ANS1 = len(nice_str_indices)\n",
    "ANS1"
   ]
  },
  {
   "cell_type": "markdown",
   "metadata": {},
   "source": [
    "------\n",
    "------\n",
    "### Part-2"
   ]
  },
  {
   "cell_type": "code",
   "execution_count": 66,
   "metadata": {},
   "outputs": [],
   "source": [
    "nice_str_indices = []\n",
    "c2 = []\n",
    "c1 = []\n",
    "\n",
    "for idx, s in enumerate(strings):\n",
    "    C2 = False\n",
    "    l, r = 0, 2\n",
    "    while r < len(s):\n",
    "        # window = s[l:r]\n",
    "\n",
    "        if s[l] == s[r]:\n",
    "            C2 = True\n",
    "            break\n",
    "\n",
    "        l += 1\n",
    "        r += 1\n",
    "\n",
    "    c2.append(C2)\n",
    "\n",
    "\n",
    "\n",
    "\n",
    "    C1 = False\n",
    "    char_pairs:dict[str, int] = {} # \"ad\":index of d\n",
    "\n",
    "    for i in range(1, len(s)):\n",
    "        pair = s[i-1:i+1]\n",
    "        if pair not in char_pairs:\n",
    "            char_pairs[pair] = i\n",
    "\n",
    "        # elif s[i] != s[i-1]:\n",
    "        elif char_pairs[pair] != i-1:\n",
    "            C1 = True\n",
    "\n",
    "    c1.append(C1)\n",
    "    # break"
   ]
  },
  {
   "cell_type": "code",
   "execution_count": 76,
   "metadata": {},
   "outputs": [
    {
     "data": {
      "text/plain": [
       "51"
      ]
     },
     "execution_count": 76,
     "metadata": {},
     "output_type": "execute_result"
    }
   ],
   "source": [
    "ANS2 = 0\n",
    "for idx, (c1_, c2_) in enumerate(zip(c1, c2)):\n",
    "    if c1_ and c2_:\n",
    "        ANS2 += 1\n",
    "\n",
    "ANS2"
   ]
  },
  {
   "cell_type": "markdown",
   "metadata": {},
   "source": []
  }
 ],
 "metadata": {
  "kernelspec": {
   "display_name": "Python 3.9.7 ('base')",
   "language": "python",
   "name": "python3"
  },
  "language_info": {
   "codemirror_mode": {
    "name": "ipython",
    "version": 3
   },
   "file_extension": ".py",
   "mimetype": "text/x-python",
   "name": "python",
   "nbconvert_exporter": "python",
   "pygments_lexer": "ipython3",
   "version": "3.9.7"
  },
  "orig_nbformat": 4,
  "vscode": {
   "interpreter": {
    "hash": "fcf5590ce2d789d46a180223f9dda6f8ae45e89a2999e90e1a0cea5d6d4587a5"
   }
  }
 },
 "nbformat": 4,
 "nbformat_minor": 2
}
